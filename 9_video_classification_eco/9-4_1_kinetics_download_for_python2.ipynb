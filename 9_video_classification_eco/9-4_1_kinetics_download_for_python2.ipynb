{
 "cells": [
  {
   "cell_type": "markdown",
   "metadata": {},
   "source": [
    "# 9.4.1 Kinetics 동영상 다운로드\n",
    "\n",
    "Kinetics 동영상을 다운로드합니다\n"
   ]
  },
  {
   "cell_type": "markdown",
   "metadata": {},
   "source": [
    "## 해설"
   ]
  },
  {
   "cell_type": "markdown",
   "metadata": {},
   "source": [
    "https://github.com/activitynet/ActivityNet/tree/master/Crawler/Kinetics\n",
    "\n",
    "의 Kinetics 동영상 다운로드 환경을 이용합니다.\n",
    "\n",
    "Python2 계열이므로, 새로운 가상 환경을 작성합니다.\n",
    "현재 디렉터리는 Ubuntu의 home입니다.\n",
    "\n",
    "다음 명령을 터미널에서 실행하여, \"video_download\" 폴더의 \"environment.yml\" 파일에 기재한 패키지를 설치한 가상환경을 만듭니다\n",
    "\n",
    "- source deactivate\n",
    "\n",
    "- conda env create -f ./9_video_classification_eco/video_download/environment.yml\n",
    "\n",
    "작성한 가상 환경에 들어갑니다\n",
    "\n",
    "- source activate kinetics\n",
    "\n",
    "youtube-dl 패키지를 업데이트하여 설치합니다\n",
    "\n",
    "- pip install --upgrade youtube-dl\n",
    "\n",
    "- pip install --upgrade joblib\n",
    "\n",
    "이로써 준비되었으므로, JupyteNotebook를 기동시켜, 이 파일을 실행합니다\n",
    "\n",
    "- jupyter notebook --port 9999\n"
   ]
  },
  {
   "cell_type": "code",
   "execution_count": 1,
   "metadata": {},
   "outputs": [
    {
     "name": "stdout",
     "output_type": "stream",
     "text": [
      "/tmp/kinetics/61598a2a-008c-4be8-b905-675577ef7975.%(ext)s\n",
      "/tmp/kinetics/dda1d025-c5a0-4eaa-a1fa-7741e7b974c2.%(ext)s\n",
      "/tmp/kinetics/aee74f62-b200-4464-84c0-977f56b48830.%(ext)s\n",
      "/tmp/kinetics/9aa81f6a-b58c-4eae-8a28-b8a8e0f56f6d.%(ext)s\n",
      "/tmp/kinetics/1ea6c6cc-0253-4976-a51d-4812e2a61e44.%(ext)s\n",
      "/tmp/kinetics/9f855b52-7a6f-4781-a53f-a21e7ebbf938.%(ext)s\n",
      "/tmp/kinetics/bfca0f36-1499-4391-bb63-9f2c84a72d41.%(ext)s\n",
      "/tmp/kinetics/2c94b95d-14f4-410b-b60c-28834d2a7439.%(ext)s\n"
     ]
    }
   ],
   "source": [
    "import os\n",
    "\n",
    "# data 폴더가 없으면 작성한다\n",
    "data_dir = \"./data/\"\n",
    "if not os.path.exists(data_dir):\n",
    "    os.mkdir(data_dir)\n",
    "    \n",
    "# \"kinetics_videos\" 폴더가 없으면 작성한다\n",
    "data_dir = \"./data/kinetics_videos/\"\n",
    "if not os.path.exists(data_dir):\n",
    "    os.mkdir(data_dir)\n",
    "    \n",
    "    \n",
    "# \"video_download\" 폴더의 pytnon 파일인 \"download.py\"을 실행합니다\n",
    "# 취득할 youtube 데이터는 \"video_download\" 폴더의 kinetics-400_val_8videos.csv에 기재한 8개의 동영상입니다\n",
    "# 저장할 곳은 \"data\" 내의 \"kinetics_videos\" 폴더입니다\n",
    "!python2 ./video_download/download.py ./video_download/kinetics-400_val_8videos.csv ./data/kinetics_videos/\n",
    "    "
   ]
  },
  {
   "cell_type": "markdown",
   "metadata": {},
   "source": [
    "끝"
   ]
  }
 ],
 "metadata": {
  "kernelspec": {
   "display_name": "Python 3",
   "language": "python",
   "name": "python3"
  },
  "language_info": {
   "codemirror_mode": {
    "name": "ipython",
    "version": 3
   },
   "file_extension": ".py",
   "mimetype": "text/x-python",
   "name": "python",
   "nbconvert_exporter": "python",
   "pygments_lexer": "ipython3",
   "version": "3.6.5"
  }
 },
 "nbformat": 4,
 "nbformat_minor": 2
}
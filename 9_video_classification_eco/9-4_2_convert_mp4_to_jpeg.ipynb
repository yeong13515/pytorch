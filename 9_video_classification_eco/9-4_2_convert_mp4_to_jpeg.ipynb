{
 "cells": [
  {
   "cell_type": "markdown",
   "metadata": {},
   "source": [
    "# 9.4.2 동영상을 frame별 화상 데이터로 변환\n",
    "\n",
    "다운로드한 동영상을 frame별로 jpeg 형식의 화상 데이터로 변환합니다.\n"
   ]
  },
  {
   "cell_type": "markdown",
   "metadata": {},
   "source": [
    "## 사전 준비\n",
    "\n",
    "ffmepg가 설치되어 있지 않은 경우에는\n",
    "다음 명령을 터미널에서 실행하여, Ubuntu에 ffmpeg를 설치합니다.\n",
    "\n",
    "- sudo apt install ffmpeg\n"
   ]
  },
  {
   "cell_type": "code",
   "execution_count": 1,
   "metadata": {},
   "outputs": [
    {
     "name": "stdout",
     "output_type": "stream",
     "text": [
      "['arm wrestling', 'bungee jumping']\n",
      "ffmpeg -i \"./data/kinetics_videos/arm wrestling/BdMiTo_OtnU_000024_000034.mp4\" -vf scale=-1:256 \"./data/kinetics_videos/arm wrestling/BdMiTo_OtnU_000024_000034/image_%05d.jpg\"\n",
      "\n",
      "\n",
      "ffmpeg -i \"./data/kinetics_videos/arm wrestling/5JzkrOVhPOw_000027_000037.mp4\" -vf scale=-1:256 \"./data/kinetics_videos/arm wrestling/5JzkrOVhPOw_000027_000037/image_%05d.jpg\"\n",
      "\n",
      "\n",
      "ffmpeg -i \"./data/kinetics_videos/arm wrestling/ehLnj7pXnYE_000027_000037.mp4\" -vf scale=-1:256 \"./data/kinetics_videos/arm wrestling/ehLnj7pXnYE_000027_000037/image_%05d.jpg\"\n",
      "\n",
      "\n",
      "ffmpeg -i \"./data/kinetics_videos/arm wrestling/C4lCVBZ3ux0_000028_000038.mp4\" -vf scale=-1:256 \"./data/kinetics_videos/arm wrestling/C4lCVBZ3ux0_000028_000038/image_%05d.jpg\"\n",
      "\n",
      "\n",
      "ffmpeg -i \"./data/kinetics_videos/bungee jumping/dAeUFSdYG1I_000010_000020.mp4\" -vf scale=-1:256 \"./data/kinetics_videos/bungee jumping/dAeUFSdYG1I_000010_000020/image_%05d.jpg\"\n",
      "\n",
      "\n",
      "ffmpeg -i \"./data/kinetics_videos/bungee jumping/zkXOcxGnUhs_000025_000035.mp4\" -vf scale=-1:256 \"./data/kinetics_videos/bungee jumping/zkXOcxGnUhs_000025_000035/image_%05d.jpg\"\n",
      "\n",
      "\n",
      "ffmpeg -i \"./data/kinetics_videos/bungee jumping/TUvSX0pYu4o_000002_000012.mp4\" -vf scale=-1:256 \"./data/kinetics_videos/bungee jumping/TUvSX0pYu4o_000002_000012/image_%05d.jpg\"\n",
      "\n",
      "\n",
      "ffmpeg -i \"./data/kinetics_videos/bungee jumping/b6yQZjPE26c_000023_000033.mp4\" -vf scale=-1:256 \"./data/kinetics_videos/bungee jumping/b6yQZjPE26c_000023_000033/image_%05d.jpg\"\n",
      "\n",
      "\n",
      "동영상 파일을 화상 파일로 변환했습니다.\n"
     ]
    }
   ],
   "source": [
    "import os\n",
    "import subprocess  # 터미널에서 실행할 명령을 수행할 수 있다\n",
    "\n",
    "\n",
    "# 동영상이 저장된 \"kinetics_videos\"폴더에 있는, 클래스의 종류와 경로를 취득\n",
    "dir_path = './data/kinetics_videos'\n",
    "class_list = os.listdir(path=dir_path)\n",
    "print(class_list)\n",
    "\n",
    "# 각 클래스의 동영상 파일을 화상 파일로 변환한다\n",
    "for class_list_i in (class_list):  # 클래스별 루프\n",
    "\n",
    "    # 클래스의 폴더 경로를 취득\n",
    "    class_path = os.path.join(dir_path, class_list_i)\n",
    "\n",
    "    # 각 클래스 폴더 내의 동영상 파일을 하나식 처리하는 루프\n",
    "    for file_name in os.listdir(class_path):\n",
    "\n",
    "        # 파일명과 확장자로 분할\n",
    "        name, ext = os.path.splitext(file_name)\n",
    "\n",
    "        # mp4 파일이 아니거나, 폴더 등은 처리하지 않음\n",
    "        if ext != '.mp4':\n",
    "            continue\n",
    "\n",
    "        # 동영상 파일을 화상으로 분할하여 저장할 폴더명을 취득\n",
    "        dst_directory_path = os.path.join(class_path, name)\n",
    "\n",
    "        # 위의 화상 저장 폴더가 없으면 작성\n",
    "        if not os.path.exists(dst_directory_path):\n",
    "            os.mkdir(dst_directory_path)\n",
    "\n",
    "        # 동영상 파일의 경로를 취득\n",
    "        video_file_path = os.path.join(class_path, file_name)\n",
    "\n",
    "        # ffmpeg를 실행하여, 동영상 파일을 jpg로 바꿈(높이 256 픽셀로, 폭은 화면 비율을 바꾸지 않음)\n",
    "        # kinetics 동영상은 10초이며, 대략 300개의 파일이 됨(30 frames /sec)\n",
    "        cmd = 'ffmpeg -i \\\"{}\\\" -vf scale=-1:256 \\\"{}/image_%05d.jpg\\\"'.format(\n",
    "            video_file_path, dst_directory_path)\n",
    "        print(cmd)\n",
    "        subprocess.call(cmd, shell=True)\n",
    "        print('\\n')\n",
    "\n",
    "print(\"동영상 파일을 화상 파일로 변환했습니다.\")\n"
   ]
  },
  {
   "cell_type": "markdown",
   "metadata": {},
   "source": [
    "끝"
   ]
  }
 ],
 "metadata": {
  "kernelspec": {
   "display_name": "Python 3",
   "language": "python",
   "name": "python3"
  },
  "language_info": {
   "codemirror_mode": {
    "name": "ipython",
    "version": 3
   },
   "file_extension": ".py",
   "mimetype": "text/x-python",
   "name": "python",
   "nbconvert_exporter": "python",
   "pygments_lexer": "ipython3",
   "version": "3.6.5"
  }
 },
 "nbformat": 4,
 "nbformat_minor": 2
}
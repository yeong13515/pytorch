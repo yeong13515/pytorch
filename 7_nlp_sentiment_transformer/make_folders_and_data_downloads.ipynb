{
 "cells": [
  {
   "cell_type": "markdown",
   "metadata": {},
   "source": [
    "# 7장 자연어 처리에 의한 감정 분석(Transformer)의 준비 파일\n",
    "\n",
    "- 7장에서 사용하는 폴더를 작성하고 파일 다운로드를 수행합니다."
   ]
  },
  {
   "cell_type": "code",
   "execution_count": 1,
   "metadata": {},
   "outputs": [],
   "source": [
    "import os\n",
    "import urllib.request\n",
    "import zipfile\n",
    "import tarfile"
   ]
  },
  {
   "cell_type": "code",
   "execution_count": 2,
   "metadata": {},
   "outputs": [],
   "source": [
    "# data 폴더가 없으면 작성한다\n",
    "data_dir = \"./data/\"\n",
    "if not os.path.exists(data_dir):\n",
    "    os.mkdir(data_dir)"
   ]
  },
  {
   "cell_type": "markdown",
   "metadata": {},
   "source": [
    "# word2vec 학습된 모델 다운로드\n",
    "\n",
    "도호쿠 대학 乾・岡崎 연구실에서 공개한\n",
    "\n",
    "http://www.cl.ecei.tohoku.ac.jp/~m-suzuki/jawiki_vector/\n",
    "\n",
    "에 있는\n",
    "\n",
    "http://www.cl.ecei.tohoku.ac.jp/~m-suzuki/jawiki_vector/data/20170201.tar.bz2\n",
    "    \n",
    "를 다운로드하여 사용합니다"
   ]
  },
  {
   "cell_type": "code",
   "execution_count": 3,
   "metadata": {},
   "outputs": [],
   "source": [
    "# word2vec의 학습된 모델(일본어)을 다운로드합니다. 15분 정도 걸립니다.(도호쿠 대학 乾・岡崎 연구실의 데이터)\n",
    "\n",
    "url = \"http://www.cl.ecei.tohoku.ac.jp/~m-suzuki/jawiki_vector/data/20170201.tar.bz2\"\n",
    "save_path = \"./data/20170201.tar.bz2\"\n",
    "if not os.path.exists(save_path):\n",
    "    urllib.request.urlretrieve(url, save_path)\n"
   ]
  },
  {
   "cell_type": "code",
   "execution_count": 4,
   "metadata": {},
   "outputs": [],
   "source": [
    "# './data/20170201.tar.bz2' 압축 해제(5분 정도 걸립니다)\n",
    "\n",
    "# tar 파일을 읽기\n",
    "tar = tarfile.open('./data/20170201.tar.bz2', 'r|bz2')\n",
    "tar.extractall('./data/')  # 압축 해제\n",
    "tar.close()  # 파일 닫기\n",
    "\n",
    "# \"data\" 폴더 내의 \"entity_vector\" 폴더에 \"entity_vector.model.bin\"이 생성됩니다."
   ]
  },
  {
   "cell_type": "markdown",
   "metadata": {},
   "source": [
    "# fastText의 학습된 모델(영어) 다운로드"
   ]
  },
  {
   "cell_type": "code",
   "execution_count": 5,
   "metadata": {},
   "outputs": [],
   "source": [
    "# fastText 공식 데이터인, 학습된 모델(영어, 650MB)을 다운로드합니다. 5분 정도 걸립니다.\n",
    "url = \"https://dl.fbaipublicfiles.com/fasttext/vectors-english/wiki-news-300d-1M.vec.zip\"\n",
    "save_path = \"./data/wiki-news-300d-1M.vec.zip\"\n",
    "if not os.path.exists(save_path):\n",
    "    urllib.request.urlretrieve(url, save_path)\n",
    "    "
   ]
  },
  {
   "cell_type": "code",
   "execution_count": 6,
   "metadata": {},
   "outputs": [],
   "source": [
    "# \"data\" 폴더 내의 \"wiki-news-300d-1M.vec.zip\"를 압축 해제\n",
    "zip = zipfile.ZipFile(\"./data/wiki-news-300d-1M.vec.zip\")\n",
    "zip.extractall(\"./data/\")  # ZIP 압축 해제\n",
    "zip.close()  # ZIP 파일 닫기\n",
    "\n",
    "# \"data\" 폴더 내에 \"wiki-news-300d-1M.vec\"가 생성됩니다.\n"
   ]
  },
  {
   "cell_type": "markdown",
   "metadata": {},
   "source": [
    "# IMDb 데이터 세트 다운로드\n",
    "\n",
    "http://ai.stanford.edu/~amaas/data/sentiment/aclImdb_v1.tar.gz\n",
    "    "
   ]
  },
  {
   "cell_type": "code",
   "execution_count": 7,
   "metadata": {},
   "outputs": [],
   "source": [
    "# IMDb 데이터 세트 다운로드. 30초 정도 걸립니다.\n",
    "url = \"http://ai.stanford.edu/~amaas/data/sentiment/aclImdb_v1.tar.gz\"\n",
    "save_path = \"./data/aclImdb_v1.tar.gz\"\n",
    "if not os.path.exists(save_path):\n",
    "    urllib.request.urlretrieve(url, save_path)"
   ]
  },
  {
   "cell_type": "code",
   "execution_count": 8,
   "metadata": {},
   "outputs": [],
   "source": [
    "# './data/aclImdb_v1.tar.gz' 압축 해제. 1분 정도 걸립니다.\n",
    "\n",
    "# tar 파일 읽기\n",
    "tar = tarfile.open('./data/aclImdb_v1.tar.gz')\n",
    "tar.extractall('./data/')  # 압축 해제\n",
    "tar.close()  # 파일 닫기\n",
    "\n",
    "# \"data\" 폴더 내에 \"aclImdb\" 폴더가 생성됩니다"
   ]
  },
  {
   "cell_type": "markdown",
   "metadata": {},
   "source": [
    "# fastText의 학습된 모델을 다운로드\n",
    "\n",
    "fastText의 학습된 모델(일본어)에 대해서는, Qiita 기사 \"바로 사용 가능한 단어 내장 벡터의 목록\"에 나오는\n",
    "\n",
    "https://qiita.com/Hironsan/items/8f7d35f0a36e0f99752c\n",
    "\n",
    "fastText의 \"URL2: Download Word Vectors(NEologd)\" 부분의 링크\n",
    "\n",
    "https://drive.google.com/open?id=0ByFQ96A4DgSPUm9wVWRLdm5qbmc\n",
    "\n",
    "Google Drive 링크를 통해, \"vector_neologd.zip\"을 PC에 다운로드합니다.\n",
    "\n",
    "AWS의 딥러닝용 EC2에서 JupyterNotebook를 열어,\n",
    "\n",
    "\"7_nlp_sentiment_transformer\" 폴더의 \"data\" 폴더에 다운로드한 \"vector_neologd.zip\"을 업로드합니다."
   ]
  },
  {
   "cell_type": "code",
   "execution_count": 9,
   "metadata": {},
   "outputs": [],
   "source": [
    "# \"data\" 폴더 내의 \"vector_neologd.zip\"을 압축 해제\n",
    "\n",
    "zip = zipfile.ZipFile(\"./data/vector_neologd.zip\")\n",
    "zip.extractall(\"./data/vector_neologd/\")  # ZIP 압축 해제\n",
    "zip.close()  # ZIP 파일 닫기\n"
   ]
  },
  {
   "cell_type": "markdown",
   "metadata": {},
   "source": [
    "끝"
   ]
  }
 ],
 "metadata": {
  "kernelspec": {
   "display_name": "Python 3",
   "language": "python",
   "name": "python3"
  },
  "language_info": {
   "codemirror_mode": {
    "name": "ipython",
    "version": 3
   },
   "file_extension": ".py",
   "mimetype": "text/x-python",
   "name": "python",
   "nbconvert_exporter": "python",
   "pygments_lexer": "ipython3",
   "version": "3.6.5"
  }
 },
 "nbformat": 4,
 "nbformat_minor": 2
}
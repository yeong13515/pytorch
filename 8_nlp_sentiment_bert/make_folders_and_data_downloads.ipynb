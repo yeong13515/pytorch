{
 "cells": [
  {
   "cell_type": "markdown",
   "metadata": {},
   "source": [
    "##  8장 자연어 처리에 의한 감정 분석(BERT)\n",
    "\n",
    "- 8장에서 사용하는 폴더를 작성하고 파일 다운로드를 수행합니다."
   ]
  },
  {
   "cell_type": "code",
   "execution_count": 1,
   "metadata": {},
   "outputs": [],
   "source": [
    "import os\n",
    "import urllib.request\n",
    "import zipfile\n",
    "import tarfile\n",
    "import glob\n",
    "import io"
   ]
  },
  {
   "cell_type": "code",
   "execution_count": 2,
   "metadata": {},
   "outputs": [],
   "source": [
    "# data 폴더가 없으면 작성한다\n",
    "data_dir = \"./data/\"\n",
    "if not os.path.exists(data_dir):\n",
    "    os.mkdir(data_dir)"
   ]
  },
  {
   "cell_type": "code",
   "execution_count": 3,
   "metadata": {},
   "outputs": [],
   "source": [
    "# vocab 폴더가 없으면 작성한다\n",
    "vocab_dir = \"./vocab/\"\n",
    "if not os.path.exists(vocab_dir):\n",
    "    os.mkdir(vocab_dir)"
   ]
  },
  {
   "cell_type": "code",
   "execution_count": 4,
   "metadata": {},
   "outputs": [],
   "source": [
    "# weights 폴더가 없으면 작성한다\n",
    "weights_dir = \"./weights/\"\n",
    "if not os.path.exists(weights_dir):\n",
    "    os.mkdir(weights_dir)"
   ]
  },
  {
   "cell_type": "code",
   "execution_count": 5,
   "metadata": {},
   "outputs": [
    {
     "data": {
      "text/plain": [
       "('./vocab/bert-base-uncased-vocab.txt',\n",
       " <http.client.HTTPMessage at 0x7fc9ed54d780>)"
      ]
     },
     "execution_count": 5,
     "metadata": {},
     "output_type": "execute_result"
    }
   ],
   "source": [
    "# 단어집: vocabulary 다운로드\n",
    "\n",
    "# 'bert-base-uncased': \n",
    "# https://s3.amazonaws.com/models.huggingface.co/bert/bert-base-uncased-vocab.txt\n",
    "\n",
    "save_path=\"./vocab/bert-base-uncased-vocab.txt\"\n",
    "url = \"https://s3.amazonaws.com/models.huggingface.co/bert/bert-base-uncased-vocab.txt\"\n",
    "urllib.request.urlretrieve(url, save_path)\n",
    "    "
   ]
  },
  {
   "cell_type": "code",
   "execution_count": 6,
   "metadata": {},
   "outputs": [],
   "source": [
    "# BERT의 학습된 모델 'bert-base-uncased'\n",
    "# https://github.com/huggingface/pytorch-pretrained-BERT/\n",
    "# https://s3.amazonaws.com/models.huggingface.co/bert/bert-base-uncased.tar.gz\n",
    "\n",
    "# 다운로드\n",
    "save_path = \"./weights/bert-base-uncased.tar.gz\"\n",
    "url = \"https://s3.amazonaws.com/models.huggingface.co/bert/bert-base-uncased.tar.gz\"\n",
    "urllib.request.urlretrieve(url, save_path)\n",
    "\n",
    "# 압축 해제\n",
    "archive_file = \"./weights/bert-base-uncased.tar.gz\"  # Uncased는 소문자 모드라는 의미입니다\n",
    "tar = tarfile.open(archive_file, 'r:gz')\n",
    "tar.extractall('./weights/')  # 압축 해제\n",
    "tar.close()  # 파일 닫기\n",
    "\n",
    "# \"weights\" 폴더 내에 \"pytorch_model.bin\"와 \"bert_config.json\"가 생성됩니다"
   ]
  },
  {
   "cell_type": "markdown",
   "metadata": {},
   "source": [
    "# IMDb 데이터 세트를 다운로드해, tsv 파일로 성형\n",
    "\n",
    "http://ai.stanford.edu/~amaas/data/sentiment/aclImdb_v1.tar.gz"
   ]
  },
  {
   "cell_type": "code",
   "execution_count": 9,
   "metadata": {},
   "outputs": [],
   "source": [
    "# IMDb 데이터 세트를 다운로드. 30초 정도 걸립니다.\n",
    "target_dir_path=\"./data/\"\n",
    "\n",
    "if not os.path.exists(target_dir_path):\n",
    "    os.mkdir(target_dir_path)\n",
    "    \n",
    "url = \"http://ai.stanford.edu/~amaas/data/sentiment/aclImdb_v1.tar.gz\"\n",
    "save_path = \"./data/aclImdb_v1.tar.gz\"\n",
    "urllib.request.urlretrieve(url, save_path)\n",
    "\n",
    "# './data/aclImdb_v1.tar.gz'의 압축 해제. 1분 정도 걸립니다.\n",
    "\n",
    "# tar 파일 읽기\n",
    "tar = tarfile.open('./data/aclImdb_v1.tar.gz')\n",
    "tar.extractall('./data/')  # 압축 해제\n",
    "tar.close()  # 파일 닫기\n",
    "\n",
    "# \"data\" 폴더 내에 \"aclImdb\" 폴더가 생성됩니다."
   ]
  },
  {
   "cell_type": "code",
   "execution_count": 3,
   "metadata": {},
   "outputs": [],
   "source": [
    "# IMDb의 개별 파일을 tsv로 통합\n",
    "target_dir_path=\"./data/aclImdb/\"\n",
    "\n",
    "if os.path.exists(target_dir_path):\n",
    "    \n",
    "    # 훈련 데이터 작성\n",
    "    f=open('./data/IMDb_train.tsv','w')\n",
    "\n",
    "    path = './data/aclImdb/train/pos/'\n",
    "    for fname in glob.glob(os.path.join(path,'*.txt')):\n",
    "        with io.open(fname, 'r', encoding=\"utf-8\") as ff:\n",
    "            text = ff.readline()\n",
    "            \n",
    "            # 탭이 있으면 지웁니다\n",
    "            text = text.replace('\\t', \" \")\n",
    "            \n",
    "            text = text+'\\t'+'1'+'\\t'+'\\n'\n",
    "            f.write(text)\n",
    "\n",
    "    path = './data/aclImdb/train/neg/'\n",
    "    for fname in glob.glob(os.path.join(path,'*.txt')):\n",
    "        with io.open(fname, 'r', encoding=\"utf-8\") as ff:\n",
    "            text = ff.readline()\n",
    "            \n",
    "            # 탭이 있으면 지웁니다\n",
    "            text = text.replace('\\t', \" \")\n",
    "            \n",
    "            text = text+'\\t'+'0'+'\\t'+'\\n'\n",
    "            f.write(text)\n",
    "\n",
    "    f.close()\n",
    "    \n",
    "    \n",
    "    # 테스트 데이터 작성\n",
    "    f=open('./data/IMDb_test.tsv','w')\n",
    "\n",
    "    path = './data/aclImdb/test/pos/'\n",
    "    for fname in glob.glob(os.path.join(path,'*.txt')):\n",
    "        with io.open(fname, 'r', encoding=\"utf-8\") as ff:\n",
    "            text = ff.readline()\n",
    "            \n",
    "            # 탭이 있으면 지웁니다\n",
    "            text = text.replace('\\t', \" \")\n",
    "        \n",
    "            text = text+'\\t'+'1'+'\\t'+'\\n'\n",
    "            f.write(text)\n",
    "\n",
    "    path = './data/aclImdb/test/neg/'\n",
    "\n",
    "    for fname in glob.glob(os.path.join(path,'*.txt')):\n",
    "        with io.open(fname, 'r', encoding=\"utf-8\") as ff:\n",
    "            text = ff.readline()\n",
    "            \n",
    "            \n",
    "            # 탭이 있으면 지웁니다\n",
    "            text = text.replace('\\t', \" \")\n",
    "            \n",
    "            text = text+'\\t'+'0'+'\\t'+'\\n'\n",
    "            f.write(text)\n",
    "\n",
    "\n",
    "    f.close()"
   ]
  },
  {
   "cell_type": "markdown",
   "metadata": {},
   "source": [
    "끝"
   ]
  }
 ],
 "metadata": {
  "kernelspec": {
   "display_name": "Python 3",
   "language": "python",
   "name": "python3"
  },
  "language_info": {
   "codemirror_mode": {
    "name": "ipython",
    "version": 3
   },
   "file_extension": ".py",
   "mimetype": "text/x-python",
   "name": "python",
   "nbconvert_exporter": "python",
   "pygments_lexer": "ipython3",
   "version": "3.6.5"
  }
 },
 "nbformat": 4,
 "nbformat_minor": 2
}
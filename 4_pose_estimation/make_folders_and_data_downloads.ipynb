{
 "cells": [
  {
   "cell_type": "markdown",
   "metadata": {},
   "source": [
    "#  \"4장 자세추정\"의 준비 파일\n",
    "\n",
    "- 4장에서 사용하는 파일을 작성하고 폴더를 다운로드합니다."
   ]
  },
  {
   "cell_type": "code",
   "execution_count": 1,
   "metadata": {},
   "outputs": [],
   "source": [
    "import os\n",
    "import urllib.request\n",
    "import zipfile\n",
    "import tarfile"
   ]
  },
  {
   "cell_type": "code",
   "execution_count": 2,
   "metadata": {},
   "outputs": [],
   "source": [
    "# \"data\" 폴더가 존재하지 않는 경우 작성한다\n",
    "data_dir = \"./data/\"\n",
    "if not os.path.exists(data_dir):\n",
    "    os.mkdir(data_dir)"
   ]
  },
  {
   "cell_type": "code",
   "execution_count": 3,
   "metadata": {},
   "outputs": [],
   "source": [
    "# \"weights\" 폴더가 존재하지 않는 경우 작성한다\n",
    "weights_dir = \"./weights/\"\n",
    "if not os.path.exists(weights_dir):\n",
    "    os.mkdir(weights_dir)"
   ]
  },
  {
   "cell_type": "code",
   "execution_count": 4,
   "metadata": {},
   "outputs": [],
   "source": [
    "# MSCOCO의 2014 Val images [41K/6GB]를 다운로드\n",
    "# 6GB 파일의 다운로드 및 압축 해제에 시간이 걸립니다(약 10분)\n",
    "url =  \"http://images.cocodataset.org/zips/val2014.zip\"\n",
    "target_path = os.path.join(data_dir, \"val2014.zip\") \n",
    "\n",
    "if not os.path.exists(target_path):\n",
    "    urllib.request.urlretrieve(url, target_path)\n",
    "    \n",
    "    zip = zipfile.ZipFile(target_path)\n",
    "    zip.extractall(data_dir)  # ZIP 파일 압축 해제\n",
    "    zip.close()  # ZIP 파일 닫기"
   ]
  },
  {
   "cell_type": "markdown",
   "metadata": {},
   "source": [
    "## tensorboy의 GitHub에서 필요한 데이터를 수동으로 다운로드\n",
    "\n",
    "tensorboy가 COCODataset에서 사용하기 쉽도록 가공한 데이터를 이용합니다\n",
    "\n",
    "https://github.com/tensorboy/pytorch_Realtime_Multi-Person_Pose_Estimation\n",
    "\n",
    "Released under the MIT license"
   ]
  },
  {
   "cell_type": "code",
   "execution_count": null,
   "metadata": {},
   "outputs": [],
   "source": [
    "# 화상 데이터의 어노테이션 데이터를 정리한 \"COCO.json\" 파일을 다운로드합니다\n",
    "\n",
    "\"data\" 폴더에 이하 데이터를 배치\n",
    "\"COCO.json\" 어노테이션 데이터\n",
    "\n",
    "https://www.dropbox.com/s/0sj2q24hipiiq5t/COCO.json?dl=0"
   ]
  },
  {
   "cell_type": "code",
   "execution_count": null,
   "metadata": {},
   "outputs": [],
   "source": [
    "# 화상 중에서 어노테이션 데이터(사람의 관절 위치 정보)가 없는 사람 부분을 마스크하는 데이터를 준비합니다\n",
    "\n",
    "\"data\" 폴더에 이하 데이터를 배치\n",
    "\"mask.tar.gz\" 마스크 데이터\n",
    "\n",
    "https://www.dropbox.com/s/bd9ty7b4fqd5ebf/mask.tar.gz?dl=0"
   ]
  },
  {
   "cell_type": "markdown",
   "metadata": {},
   "source": [
    "## mask.tar.gz 압축 해제"
   ]
  },
  {
   "cell_type": "code",
   "execution_count": 5,
   "metadata": {},
   "outputs": [],
   "source": [
    "# mask.tar.gz 압축 해제\n",
    "save_path = os.path.join(data_dir, \"mask.tar.gz\") \n",
    "\n",
    "with tarfile.open(save_path, 'r:*') as tar:\n",
    "    tar.extractall(data_dir)"
   ]
  },
  {
   "cell_type": "markdown",
   "metadata": {},
   "source": [
    "# 학습된 모델을 다운로드"
   ]
  },
  {
   "cell_type": "code",
   "execution_count": null,
   "metadata": {},
   "outputs": [],
   "source": [
    "# tensorboy의 학습된 OpenPose 모델 \"pspnet50_30.pth\"를 준비합니다\n",
    "\n",
    "\"weights\" 폴더에 이하 데이터를 배치\n",
    "학습된 모델 \"pose_model_scratch.pth\"\n",
    "\n",
    "https://www.dropbox.com/s/5v654d2u65fuvyr/pose_model_scratch.pth?dl=0\n",
    "    \n"
   ]
  },
  {
   "cell_type": "code",
   "execution_count": null,
   "metadata": {},
   "outputs": [],
   "source": [
    "※실시 완료\n",
    "야구 화상을 수동으로 다운로드\n",
    "\n",
    "https://pixabay.com/ja/photos/%E3%83%92%E3%83%83%E3%83%88-%E3%82%AD%E3%83%A3%E3%83%83%E3%83%81%E3%83%A3%E3%83%BC-%E9%87%8E%E7%90%83-1407826/\n",
    "\n",
    "640×426 크기의 화상을 \"data\" 폴더에 배치\n",
    "(사진의 권리 정보: 상업적 사용 무료, 저작자 표시가 필요하지 않습니다)"
   ]
  },
  {
   "cell_type": "markdown",
   "metadata": {},
   "source": [
    "끝"
   ]
  }
 ],
 "metadata": {
  "kernelspec": {
   "display_name": "Python 3",
   "language": "python",
   "name": "python3"
  },
  "language_info": {
   "codemirror_mode": {
    "name": "ipython",
    "version": 3
   },
   "file_extension": ".py",
   "mimetype": "text/x-python",
   "name": "python",
   "nbconvert_exporter": "python",
   "pygments_lexer": "ipython3",
   "version": "3.6.5-final"
  }
 },
 "nbformat": 4,
 "nbformat_minor": 2
}
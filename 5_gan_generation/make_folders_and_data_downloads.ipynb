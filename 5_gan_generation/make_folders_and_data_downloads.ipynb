{
 "cells": [
  {
   "cell_type": "markdown",
   "metadata": {},
   "source": [
    "##  5장 GAN에 의한 화상 생성의 준비 파일\n",
    "\n",
    "- 5장에서 사용하는 폴더를 작성하고 파일 다운로드를 수행합니다."
   ]
  },
  {
   "cell_type": "code",
   "execution_count": 1,
   "metadata": {},
   "outputs": [],
   "source": [
    "import os\n",
    "import urllib.request\n",
    "import zipfile\n",
    "import tarfile\n",
    "\n",
    "import matplotlib.pyplot as plt\n",
    "%matplotlib inline\n",
    "from PIL import Image\n",
    "import numpy as np"
   ]
  },
  {
   "cell_type": "code",
   "execution_count": 2,
   "metadata": {},
   "outputs": [],
   "source": [
    "# data 폴더가 없으면 작성한다\n",
    "data_dir = \"./data/\"\n",
    "if not os.path.exists(data_dir):\n",
    "    os.mkdir(data_dir)"
   ]
  },
  {
   "cell_type": "code",
   "execution_count": 3,
   "metadata": {},
   "outputs": [
    {
     "name": "stdout",
     "output_type": "stream",
     "text": [
      "0.22.1\n"
     ]
    }
   ],
   "source": [
    "import sklearn\n",
    "print(sklearn.__version__)"
   ]
  },
  {
   "cell_type": "code",
   "execution_count": 4,
   "metadata": {},
   "outputs": [],
   "source": [
    "# AWS의 AMI에서 sklern의 version이 0.20보다 낮은 경우에는 버전을 업데이트합니다\n",
    "# pip install -U scikit-learn"
   ]
  },
  {
   "cell_type": "code",
   "execution_count": 5,
   "metadata": {},
   "outputs": [],
   "source": [
    "# MNIST의 필기체 숫자 화상을 다운로드하여 읽습니다(2분 정도 걸립니다)\n",
    "from sklearn.datasets import fetch_openml\n",
    "\n",
    "mnist = fetch_openml('mnist_784', version=1, data_home=\"./data/\")  \n",
    "# data_home으로 저장 위치를 지정합니다\n"
   ]
  },
  {
   "cell_type": "code",
   "execution_count": 6,
   "metadata": {},
   "outputs": [],
   "source": [
    "# 데이터 꺼내기\n",
    "X = mnist.data\n",
    "y = mnist.target\n"
   ]
  },
  {
   "cell_type": "code",
   "execution_count": 7,
   "metadata": {},
   "outputs": [
    {
     "name": "stdout",
     "output_type": "stream",
     "text": [
      "이 화상 데이터의 라벨은 5입니다\n"
     ]
    },
    {
     "data": {
      "image/png": "[encoded data removed]",
      "text/plain": [
       "<Figure size 432x288 with 1 Axes>"
      ]
     },
     "metadata": {
      "needs_background": "light"
     },
     "output_type": "display_data"
    }
   ],
   "source": [
    "# MNIST의 데이터 첫 번째를 시각화\n",
    "plt.imshow(X[0].reshape(28, 28), cmap='gray')\n",
    "print(\"이 화상 데이터의 라벨은 {}입니다\".format(y[0]))"
   ]
  },
  {
   "cell_type": "code",
   "execution_count": 8,
   "metadata": {},
   "outputs": [],
   "source": [
    "# \"data\" 폴더의 아래에 \"img_78\" 폴더를 작성한다\n",
    "data_dir_path = \"./data/img_78/\"\n",
    "if not os.path.exists(data_dir_path):\n",
    "    os.mkdir(data_dir_path)"
   ]
  },
  {
   "cell_type": "code",
   "execution_count": 9,
   "metadata": {},
   "outputs": [],
   "source": [
    "# MNIST에서 숫자7, 8의 화상만 \"img_78\" 폴더에 화상으로 저장해 나간다\n",
    "count7=0\n",
    "count8=0\n",
    "max_num=200  # 화상은 200장씩 작성한다\n",
    "\n",
    "for i in range(len(X)):\n",
    "    \n",
    "    # 화상7 작성\n",
    "    if (y[i] is \"7\") and (count7<max_num):\n",
    "        file_path=\"./data/img_78/img_7_\"+str(count7)+\".jpg\"\n",
    "        im_f=(X[i].reshape(28, 28))  # 화상을 28×28의 형태로 변경\n",
    "        pil_img_f = Image.fromarray(im_f.astype(np.uint8))  # 화상을 PIL으로\n",
    "        pil_img_f = pil_img_f.resize((64, 64), Image.BICUBIC)  # 64×64로 확대\n",
    "        pil_img_f.save(file_path)  # 저장\n",
    "        count7+=1 \n",
    "    \n",
    "    # 화상8 작성\n",
    "    if (y[i] is \"8\") and (count8<max_num):\n",
    "        file_path=\"./data/img_78/img_8_\"+str(count8)+\".jpg\"\n",
    "        im_f=(X[i].reshape(28, 28))  # 화상을 28×28의 형태로 변경\n",
    "        pil_img_f = Image.fromarray(im_f.astype(np.uint8))  # 화상을 PIL으로\n",
    "        pil_img_f = pil_img_f.resize((64, 64), Image.BICUBIC)  # 64×64로 확대\n",
    "        pil_img_f.save(file_path)  # 저장\n",
    "        count8+=1 \n",
    "\n"
   ]
  },
  {
   "cell_type": "markdown",
   "metadata": {},
   "source": [
    "끝"
   ]
  },
  {
   "cell_type": "code",
   "execution_count": null,
   "metadata": {},
   "outputs": [],
   "source": []
  }
 ],
 "metadata": {
  "kernelspec": {
   "display_name": "Python 3",
   "language": "python",
   "name": "python3"
  },
  "language_info": {
   "codemirror_mode": {
    "name": "ipython",
    "version": 3
   },
   "file_extension": ".py",
   "mimetype": "text/x-python",
   "name": "python",
   "nbconvert_exporter": "python",
   "pygments_lexer": "ipython3",
   "version": "3.7.6"
  }
 },
 "nbformat": 4,
 "nbformat_minor": 2
}